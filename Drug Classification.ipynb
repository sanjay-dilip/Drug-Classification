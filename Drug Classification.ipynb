import numpy as np
import pandas as pd
import matplotlib.pyplot as plt
import seaborn as sns
df = pd.read_csv('/content/drug200 ML Assignment 1.csv')
df.head()
df.info()
df.isna().sum()
df = df.dropna()
df.info()
pd.get_dummies(df)
X = pd.get_dummies(df.drop('Drug',axis=1),drop_first=True)
y = df['Drug']
X.head()
y.head()
from sklearn.model_selection import train_test_split
X_train, X_test, y_train, y_test = train_test_split(X, y, test_size=0.3, random_state=101)
from sklearn.preprocessing import StandardScaler
scaler = StandardScaler()
scaled_X_train = scaler.fit_transform(X_train)
scaled_X_test = scaler.transform(X_test)
from sklearn.neighbors import KNeighborsClassifier
knn_model = KNeighborsClassifier(n_neighbors=14)
knn_model.fit(scaled_X_train,y_train)
full_test = pd.concat([X_test,y_test],axis=1)
len(full_test)
y_pred = knn_model.predict(scaled_X_test)
from sklearn.metrics import classification_report,confusion_matrix,accuracy_score
accuracy_score(y_test,y_pred)
confusion_matrix(y_test,y_pred)
print(classification_report(y_test,y_pred))import numpy as np
